{
 "cells": [
  {
   "cell_type": "code",
   "execution_count": 9,
   "metadata": {},
   "outputs": [
    {
     "name": "stdout",
     "output_type": "stream",
     "text": [
      "[ 1  1  1  1  1  1  1  1  1  1  1  1  1  1  1  1  1  1  1  1  1  1  1  1\n",
      "  1  1  1  1  1  1  1  1  1  1  1  1  1  1  1  1  1  1  1  1  1  1  1  1\n",
      "  1  1  1  1  1  1  1  1  1  1  1  1  1  1  1  1  1  1  1  1  1  1  1  1\n",
      "  1  1  1  1  1  1  1  1  1  1  1  1  1  1  1  1  1  1  1  1  1  1  1  1\n",
      "  1  1  1  1  1  1  1  1  1  1  1  1  1  1  1  1  1  1  1  1  1  1  1  1\n",
      "  1  1  1  1  1  3  3  3  3  3  3  3  3  3  3  3  3  3  3  3  3  3  3  3\n",
      "  3  3  3  3  3  3  3  3  3  3  3  3  3  3  3  3  3  3  3  3  3  3  3  3\n",
      "  3  3  3  3  3  3  3  3  3  3  3  3  3  3  3  3  3  3  3  3  3  3  3  3\n",
      "  3  3  3  3  3  3  3  3  3  3  3  3  3  3  3  3  3  3  3  3  3  3  3  3\n",
      "  3  3  3  3  3  3  3  3  3  3  3  3  3  3  3  3  3  3  3  3  3  3  3  3\n",
      "  3  3  3  3  3  3  3  3  3  3  5  5  5  5  5  5  5  5  5  5  5  5  5  5\n",
      "  5  5  5  5  5  5  5  5  5  5  5  5  5  5  5  5  5  5  5  5  5  5  5  5\n",
      "  5  5  5  5  5  5  5  5  5  5  5  5  5  5  5  5  5  5  5  5  5  5  5  5\n",
      "  5  5  5  5  5  5  5  5  5  5  5  7  7  7  7  7  7  7  7  7  7  7  7  7\n",
      "  7  7  7  7  7  7  7  7  7  7  7  7  7  7  7  7  7  7  7  7  7  7  7  7\n",
      "  7  7  7  7  7  7  7  7  7  7  7  7  7  7  7  9  9  9  9  9  9  9  9  9\n",
      "  9  9  9  9  9  9  9  9  9  9  9  9  9  9  9  9  9  9  9  9  9  9  9  9\n",
      "  9  9  9  9  9  9  9 11 11 11 11 11 11 11 11 11 11 11 11 11 11 11 11 11\n",
      " 11 11 11 11 11 11 11 11 11 11 11 11 11 11 11 11 13 13 13 13 13 13 13 13\n",
      " 13 13 13 13 13 13 13 13 13 13 13 13 13 13 13 13 13 13 13 15 15 15 15 15\n",
      " 15 15 15 15 15 15 15 15 15 15 15 15 15 15 15 15 15 15 15 17]\n"
     ]
    },
    {
     "data": {
      "text/plain": [
       "tensor([[0.5515]], grad_fn=<SigmoidBackward0>)"
      ]
     },
     "execution_count": 9,
     "metadata": {},
     "output_type": "execute_result"
    }
   ],
   "source": [
    "from models import *\n",
    "from data import DataMoudle\n",
    "from main import HYPERPARAMS\n",
    "from matplotlib import pyplot as plt\n",
    "\n",
    "dataset = DataMoudle(**HYPERPARAMS['dataset'])\n",
    "x, y = dataset.dataset[0]\n",
    "print(dataset.positive_data.step_list)\n",
    "\n",
    "x = x.unsqueeze(0)\n",
    "murenn = MuReNN(**HYPERPARAMS['model'])\n",
    "murenn(x)\n",
    "\n",
    "conv1d = Conv1D(**HYPERPARAMS['model'])\n",
    "conv1d(x)\n",
    "\n",
    "wavenet = WaveNet(**HYPERPARAMS['model'])\n",
    "wavenet(x)"
   ]
  },
  {
   "cell_type": "code",
   "execution_count": 10,
   "metadata": {},
   "outputs": [
    {
     "name": "stdout",
     "output_type": "stream",
     "text": [
      "tensor(31.9902)\n",
      "tensor(0.5894)\n",
      "tensor(0.4804)\n",
      "tensor(0.3005)\n",
      "tensor(0.1941)\n",
      "tensor(0.1312)\n"
     ]
    }
   ],
   "source": [
    "import murenn\n",
    "x, y = dataset.dataset[0]\n",
    "wt = murenn.DTCWT(J=6, alternate_gh=False, normalize=False)\n",
    "_, hps = wt(x.unsqueeze(0))\n",
    "for hp in hps:\n",
    "    print(torch.linalg.norm(hp))"
   ]
  },
  {
   "cell_type": "code",
   "execution_count": 11,
   "metadata": {},
   "outputs": [
    {
     "name": "stdout",
     "output_type": "stream",
     "text": [
      "tensor(5.5801)\n",
      "tensor(3.8517)\n",
      "tensor(2.7061)\n",
      "tensor(1.9976)\n",
      "tensor(1.1891)\n",
      "tensor(1.4927)\n"
     ]
    }
   ],
   "source": [
    "x, y = dataset.dataset[-1]\n",
    "torch.linalg.norm(x)\n",
    "_, hps = wt(x.unsqueeze(0))\n",
    "for hp in hps:\n",
    "    print(torch.linalg.norm(hp))"
   ]
  },
  {
   "cell_type": "code",
   "execution_count": 12,
   "metadata": {},
   "outputs": [
    {
     "data": {
      "text/plain": [
       "21.24840510366826"
      ]
     },
     "execution_count": 12,
     "metadata": {},
     "output_type": "execute_result"
    }
   ],
   "source": [
    "31.9746 / 1.5048"
   ]
  },
  {
   "cell_type": "code",
   "execution_count": 13,
   "metadata": {},
   "outputs": [
    {
     "data": {
      "text/plain": [
       "1.898974676187676"
      ]
     },
     "execution_count": 13,
     "metadata": {},
     "output_type": "execute_result"
    }
   ],
   "source": [
    "import numpy as np\n",
    "np.log(31.9746 / 1.5048) / np.log(5)"
   ]
  },
  {
   "cell_type": "code",
   "execution_count": 14,
   "metadata": {},
   "outputs": [
    {
     "data": {
      "text/plain": [
       "24.694251456731983"
      ]
     },
     "execution_count": 14,
     "metadata": {},
     "output_type": "execute_result"
    }
   ],
   "source": [
    "1.898974676187676 ** 5"
   ]
  },
  {
   "cell_type": "code",
   "execution_count": 15,
   "metadata": {},
   "outputs": [
    {
     "data": {
      "text/plain": [
       "5.652584291849823"
      ]
     },
     "execution_count": 15,
     "metadata": {},
     "output_type": "execute_result"
    }
   ],
   "source": [
    "1.414**5"
   ]
  },
  {
   "cell_type": "code",
   "execution_count": 16,
   "metadata": {},
   "outputs": [
    {
     "name": "stdout",
     "output_type": "stream",
     "text": [
      "tensor(10.2158)\n",
      "tensor(7.3131)\n",
      "tensor(3.5981)\n",
      "tensor(5.8139)\n",
      "tensor(0.5416)\n",
      "tensor(0.3392)\n"
     ]
    }
   ],
   "source": [
    "x, y = dataset.dataset[800]\n",
    "_, hps = wt(x.unsqueeze(0))\n",
    "for hp in hps:\n",
    "    print(torch.linalg.norm(hp))"
   ]
  }
 ],
 "metadata": {
  "kernelspec": {
   "display_name": "murenn_fb",
   "language": "python",
   "name": "python3"
  },
  "language_info": {
   "codemirror_mode": {
    "name": "ipython",
    "version": 3
   },
   "file_extension": ".py",
   "mimetype": "text/x-python",
   "name": "python",
   "nbconvert_exporter": "python",
   "pygments_lexer": "ipython3",
   "version": "3.11.9"
  }
 },
 "nbformat": 4,
 "nbformat_minor": 2
}
